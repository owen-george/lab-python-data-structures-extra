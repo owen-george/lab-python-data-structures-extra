{
 "cells": [
  {
   "cell_type": "markdown",
   "metadata": {},
   "source": [
    "# Lab | Data Structures "
   ]
  },
  {
   "cell_type": "markdown",
   "metadata": {},
   "source": [
    "## Exercise 1: Working with Lists"
   ]
  },
  {
   "cell_type": "markdown",
   "metadata": {},
   "source": [
    "Imagine you are building a program for a teacher who wants to track the progress of their students throughout the semester. The teacher wants to input the grades of each student one by one, and get a summary of their performance. There are in total 5 students. You are tasked with building the program that will allow the teacher to do this easily.\n",
    "\n",
    "The program will prompt the teacher to enter the grades of each student. Once the teacher has entered all the grades, the program will calculate the total sum of the grades and display it on the screen. Then, the program will create a new list by selecting only the grades of the first, third, and fifth students entered by the teacher, and sort them in ascending order.\n",
    "\n",
    "Finally, the program will print out the new list, along with its length and the number of occurrences of the score 5 in the list. This will give the teacher a good overview of the performance of the selected students, and help them identify any potential issues early on."
   ]
  },
  {
   "cell_type": "markdown",
   "metadata": {},
   "source": [
    "*Hint:*\n",
    "- You can use the input() function to ask the user to enter their information.\n",
    "- Look for list methods to perform the tasks. \n",
    "- Remember, it is possible to get a part of the sequence using:\n",
    "\n",
    "    ```python\n",
    "    sequence[x:y:z]\n",
    "    ```\n",
    "    where x, y, z are integers.\n",
    "\n",
    "    The above returns a new sequence with the following characteristics:\n",
    "\n",
    "    - A sequence with the same type as the original (a slice of a list is a list, a slice of a tuple is a tuple, and a slice of a string is a string).\n",
    "    - A sequence with elements from `sequence [x]` to `sequence [y-1]` (does not include a sequence [y]). By skipping `z` elements each time, it can be omitted if ` z = 1`.\n"
   ]
  },
  {
   "cell_type": "markdown",
   "metadata": {},
   "source": [
    "*Recommended External Resources:*\n",
    "- *[Python Lists](https://www.w3schools.com/python/python_lists.asp)*\n",
    "- *[Python List Methods](https://www.w3schools.com/python/python_ref_list.asp)*\n",
    "- *[Python Built-in Functions](https://docs.python.org/3/library/functions.html)*\n"
   ]
  },
  {
   "cell_type": "code",
   "execution_count": 23,
   "metadata": {},
   "outputs": [
    {
     "name": "stdin",
     "output_type": "stream",
     "text": [
      "Input the grade of student 1: 5\n",
      "Input the grade of student 2: 4\n",
      "Input the grade of student 3: 5\n",
      "Input the grade of student 4: 8\n",
      "Input the grade of student 5: 1\n"
     ]
    },
    {
     "name": "stdout",
     "output_type": "stream",
     "text": [
      "Total sum of grades is: 23\n",
      "The updated student list is: [1, 5, 5]. This has a length of: 3. The grade of 5 appears 2 times\n"
     ]
    }
   ],
   "source": [
    "# Your code here\n",
    "\n",
    "grade_list = []\n",
    "while len(grade_list) < 5:\n",
    "    grade_list.append(int(input(f\"Input the grade of student {len(grade_list)+1}:\")))\n",
    "\n",
    "print(f\"Total sum of grades is: {sum(grade_list)}\")\n",
    "\n",
    "odd_student_grades = [grade_list[i] for i in range(len(grade_list)) if i % 2 == 0]\n",
    "\n",
    "odd_student_grades.sort()\n",
    "\n",
    "count_of_5 = 0\n",
    "for grade in odd_student_grades:\n",
    "    if grade == 5:\n",
    "        count_of_5 += 1\n",
    "\n",
    "#Finally, the program will print out the new list, along with its length and the number of occurrences of the score 5 in the list.\n",
    "#This will give the teacher a good overview of the performance of the selected students, and help them identify any potential issues early on.\n",
    "\n",
    "print(f\"The updated student list is: {odd_student_grades}. This has a length of: {len(odd_student_grades)}. The grade of 5 appears {count_of_5} times\")"
   ]
  },
  {
   "cell_type": "markdown",
   "metadata": {},
   "source": [
    "## Exercise 2: Tuples"
   ]
  },
  {
   "cell_type": "markdown",
   "metadata": {},
   "source": [
    "Imagine you're running a fruit stand and want to keep track of your inventory. Write a Python program that does the following:\n",
    "\n",
    "- Initializes a tuple with 5 different types of fruit.\n",
    "- Outputs the first and last elements of the tuple, so you can see the full range of fruits the store offers.\n",
    "- Replaces the second element of the tuple with a new fruit that the store has recently received, and prints the updated tuple so you can see the changes.\n",
    "- Concatenates a new tuple containing 2 additional fruits to the original tuple, so you can add them to the store inventory, and prints the resulting tuple to see the updated inventory.\n",
    "- Splits the resulting tuple into 2 tuples of 3 elements each (the first tuple contains the first 3 elements, and the second tuple contains the last 3 elements), so you can organize the inventory more effectively.\n",
    "- Combines the 2 tuples from the previous step with the original tuple into a new tuple, and prints the resulting tuple and its length, so you can see the final inventory after all the changes."
   ]
  },
  {
   "cell_type": "markdown",
   "metadata": {},
   "source": [
    "*Recommended External Resources: [Python Tuples Examples and Methods](https://www.w3schools.com/python/python_tuples.asp)*\n",
    "\n"
   ]
  },
  {
   "cell_type": "code",
   "execution_count": 61,
   "metadata": {},
   "outputs": [
    {
     "name": "stdout",
     "output_type": "stream",
     "text": [
      "First fruit is: apple. Last fruit is: mango\n",
      "('apple', 'papaya', 'pear', 'orange', 'mango')\n",
      "('apple', 'banana', 'pear', 'orange', 'mango', 'plum', 'grape')\n",
      "Final tuple is ('apple', 'banana', 'pear', 'orange', 'mango', 'apple', 'banana', 'pear', 'mango', 'plum', 'grape') of length 11\n"
     ]
    }
   ],
   "source": [
    "# Your code here\n",
    "\n",
    "fruits = (\"apple\", \"banana\", \"pear\", \"orange\", \"mango\")\n",
    "\n",
    "print(f\"First fruit is: {fruits[0]}. Last fruit is: {fruits[-1]}\")\n",
    "\n",
    "fruit_list = list(fruits)\n",
    "fruit_list[1] = \"papaya\"\n",
    "updated_fruits = tuple(fruit_list)\n",
    "\n",
    "print(updated_fruits)\n",
    "\n",
    "fruit_list2 = list(fruits)\n",
    "fruit_list2.append(\"plum\")\n",
    "fruit_list2.append(\"grape\")\n",
    "updated_fruits2 = tuple(fruit_list2)\n",
    "\n",
    "print(updated_fruits2)\n",
    "\n",
    "first_3_fruits = (updated_fruits2[0], updated_fruits2[1], updated_fruits2[2])\n",
    "last_3_fruits = (updated_fruits2[-3], updated_fruits2[-2], updated_fruits2[-1])\n",
    "\n",
    "final_tuple = (fruits, first_3_fruits, last_3_fruits)\n",
    "final_tuple_items = tuple(fruit for sub_tuple in final_tuple for fruit in sub_tuple)\n",
    "\n",
    "print(f\"Final tuple is {final_tuple_items} of length {len(final_tuple_items)}\")"
   ]
  },
  {
   "cell_type": "markdown",
   "metadata": {},
   "source": [
    "## Exercise 3: Sets"
   ]
  },
  {
   "cell_type": "markdown",
   "metadata": {},
   "source": [
    "Imagine you are a data analyst working for a literature museum. Your manager has given you two poems to analyze, and she wants you to write a Python program to extract useful information from them.\n",
    "\n",
    "Your program should:\n",
    "\n",
    "- Create two sets, one for each poem, containing all unique words in both poems (ignoring case and punctuation).\n",
    "- Print the number of unique words in each set.\n",
    "- Identify and print the unique words present in the first poem but not in the second one.\n",
    "- Identify and print the unique words present in the second poem but not in the first one.\n",
    "- Identify and print the unique words present in both poems and print it in alphabetical order."
   ]
  },
  {
   "cell_type": "markdown",
   "metadata": {},
   "source": [
    "*Recommended External Resources:*\n",
    "- *[Python Sets](https://www.w3schools.com/python/python_sets.asp)* \n",
    "- *[Python Set Methods](https://www.w3schools.com/python/python_ref_set.asp)*\n",
    "- *[Python String Methods](https://www.w3schools.com/python/python_ref_string.asp)*\n"
   ]
  },
  {
   "cell_type": "code",
   "execution_count": 63,
   "metadata": {},
   "outputs": [],
   "source": [
    "poem = \"\"\"Some say the world will end in fire,\n",
    "Some say in ice.\n",
    "From what I’ve tasted of desire\n",
    "I hold with those who favor fire.\n",
    "But if it had to perish twice,\n",
    "I think I know enough of hate\n",
    "To say that for destruction ice\n",
    "Is also great\n",
    "And would suffice.\"\"\"\n",
    "\n",
    "new_poem = \"\"\"Some say life is but a dream,\n",
    "Some say it's a test.\n",
    "From what I've seen and what I deem,\n",
    "I side with those who see it as a quest.\n",
    "\n",
    "But if it had to end today,\n",
    "I think I know enough of love,\n",
    "To say that though it fades away,\n",
    "It's still what we are made of.\"\"\""
   ]
  },
  {
   "cell_type": "code",
   "execution_count": 103,
   "metadata": {},
   "outputs": [
    {
     "name": "stdout",
     "output_type": "stream",
     "text": [
      "Poem 1 has 41 unique words, Poem 2 has 43 unique words.\n",
      "These words are unique to Poem 1: {'tasted', 'great', 'for', 'perish', 'in', 'also', 'hold', 'favor', 'the', 'would', 'hate', 'suffice', 'i’ve', 'destruction', 'will', 'ice', 'fire', 'desire', 'twice', 'world'}\n",
      "These words are unique to Poem 2: {'', 'love', 'as', 'seen', 'its', 'though', 'deem', 'see', 'away', 'side', 'fades', 'ive', 'a', 'today', 'test', 'still', 'life', 'dream', 'quest', 'made', 'are', 'we'}\n",
      "{'', 'love', 'tasted', 'great', 'as', 'for', 'perish', 'seen', 'in', 'its', 'also', 'hold', 'favor', 'though', 'twice', 'the', 'would', 'deem', 'see', 'hate', 'away', 'suffice', 'side', 'fades', 'i’ve', 'ive', 'a', 'today', 'destruction', 'test', 'still', 'will', 'life', 'dream', 'ice', 'quest', 'fire', 'desire', 'made', 'are', 'we', 'world'}\n"
     ]
    }
   ],
   "source": [
    "# Your code here\n",
    "\n",
    "poem_set = set(word.lower() for word in poem.replace(\"\\n\", \" \").replace(\"'\", \"\").replace(\",\", \"\").replace(\".\", \"\").split(\" \"))\n",
    "\n",
    "new_poem_set = set(word.lower() for word in new_poem.replace(\"\\n\", \" \").replace(\"'\", \"\").replace(\",\", \"\").replace(\".\", \"\").split(\" \"))\n",
    "print(f\"Poem 1 has {len(poem_set)} unique words, Poem 2 has {len(new_poem_set)} unique words.\")\n",
    "\n",
    "unique_to_poem1 = set(word for word in poem_set if word not in new_poem_set)\n",
    "print(f\"These words are unique to Poem 1: {unique_to_poem1}\")\n",
    "\n",
    "unique_to_poem2 = set(word for word in new_poem_set if word not in poem_set)\n",
    "print(f\"These words are unique to Poem 2: {unique_to_poem2}\")\n",
    "\n",
    "all_uniques = unique_to_poem1.union(unique_to_poem2)\n",
    "\n",
    "all_uniques_list = [word for word in all_uniques]\n",
    "all_uniques_list.sort()\n",
    "all_uniques_sorted = set(all_uniques_list)\n",
    "\n",
    "print(all_uniques_sorted)"
   ]
  },
  {
   "cell_type": "markdown",
   "metadata": {},
   "source": [
    "## Exercise 4: Dictionaries"
   ]
  },
  {
   "cell_type": "markdown",
   "metadata": {},
   "source": [
    "Consider the following dictionary of students with their scores in different subjects. One of the students, Bob, has complained about his score in Philosophy and, after reviewing it, the teacher has decided to update his score to 100. Write a Python program that updates Bob's score in Philosophy to 100 in the dictionary."
   ]
  },
  {
   "cell_type": "markdown",
   "metadata": {},
   "source": [
    "*Recommended External Resources: [Python Dictionary Examples and Methods](https://www.w3schools.com/python/python_dictionaries.asp)*\n"
   ]
  },
  {
   "cell_type": "code",
   "execution_count": 105,
   "metadata": {},
   "outputs": [],
   "source": [
    "grades = {'Alice': {'Physics': 75, 'Math': 85, 'Chemistry': 60, 'Philosophy': 90}, 'Bob': {'Physics': 75, 'Math': 85, 'Chemistry': 60, 'Philosophy': 90}}"
   ]
  },
  {
   "cell_type": "code",
   "execution_count": 109,
   "metadata": {},
   "outputs": [
    {
     "name": "stdout",
     "output_type": "stream",
     "text": [
      "{'Alice': {'Physics': 75, 'Math': 85, 'Chemistry': 60, 'Philosophy': 90}, 'Bob': {'Physics': 75, 'Math': 85, 'Chemistry': 60, 'Philosophy': 100}}\n"
     ]
    }
   ],
   "source": [
    "# Your code here\n",
    "\n",
    "grades['Bob']['Philosophy'] = 100\n",
    "\n",
    "print(grades)"
   ]
  },
  {
   "cell_type": "markdown",
   "metadata": {},
   "source": [
    "## Bonus"
   ]
  },
  {
   "cell_type": "markdown",
   "metadata": {},
   "source": [
    "1. Below are the two lists. Write a Python program to convert them into a dictionary in a way that item from list1 is the key and item from list2 is the value."
   ]
  },
  {
   "cell_type": "markdown",
   "metadata": {},
   "source": [
    "*Hint: Use the zip() function. This function takes two or more iterables (like list, dict, string), aggregates them in a tuple, and returns it. Afterwards, you can use a function that turns a tuple into a dictionary.*"
   ]
  },
  {
   "cell_type": "markdown",
   "metadata": {},
   "source": [
    "*Recommended External Resources: [Python Zip Function](https://www.w3schools.com/python/ref_func_zip.asp)*\n"
   ]
  },
  {
   "cell_type": "code",
   "execution_count": 121,
   "metadata": {},
   "outputs": [
    {
     "name": "stdout",
     "output_type": "stream",
     "text": [
      "[('Physics', 75), ('Math', 85), ('Chemistry', 60), ('Philosophy', 90)]\n"
     ]
    },
    {
     "data": {
      "text/plain": [
       "{'Physics': 75, 'Math': 85, 'Chemistry': 60, 'Philosophy': 90}"
      ]
     },
     "execution_count": 121,
     "metadata": {},
     "output_type": "execute_result"
    }
   ],
   "source": [
    "keys = ['Physics', 'Math', 'Chemistry', 'Philosophy']\n",
    "values = [75, 85, 60,90]\n",
    "\n",
    "# Your code here\n",
    "\n",
    "my_dict = {key: value for key, value in list(zip(keys, values))}\n",
    "\n",
    "my_dict"
   ]
  },
  {
   "cell_type": "markdown",
   "metadata": {},
   "source": [
    "2. Get the subject with the minimum score from the previous dictionary."
   ]
  },
  {
   "cell_type": "markdown",
   "metadata": {},
   "source": [
    "*Hint: Use the built-in function min(). Read about the parameter key.*"
   ]
  },
  {
   "cell_type": "markdown",
   "metadata": {},
   "source": [
    "\n",
    "*Recommended External Resources:*\n",
    "- *[Python Min Function Official Documentation](https://docs.python.org/3.8/library/functions.html#min)*\n",
    "- *[How to use key function in max and min in Python](https://medium.com/analytics-vidhya/how-to-use-key-function-in-max-and-min-in-python-1fdbd661c59c)*"
   ]
  },
  {
   "cell_type": "code",
   "execution_count": 123,
   "metadata": {},
   "outputs": [
    {
     "data": {
      "text/plain": [
       "'Chemistry'"
      ]
     },
     "execution_count": 123,
     "metadata": {},
     "output_type": "execute_result"
    }
   ],
   "source": [
    "# Your code here\n",
    "\n",
    "min(my_dict)"
   ]
  },
  {
   "cell_type": "code",
   "execution_count": null,
   "metadata": {},
   "outputs": [],
   "source": []
  }
 ],
 "metadata": {
  "kernelspec": {
   "display_name": "Python 3 (ipykernel)",
   "language": "python",
   "name": "python3"
  },
  "language_info": {
   "codemirror_mode": {
    "name": "ipython",
    "version": 3
   },
   "file_extension": ".py",
   "mimetype": "text/x-python",
   "name": "python",
   "nbconvert_exporter": "python",
   "pygments_lexer": "ipython3",
   "version": "3.12.4"
  }
 },
 "nbformat": 4,
 "nbformat_minor": 4
}
